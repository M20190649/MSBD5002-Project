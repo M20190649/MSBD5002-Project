{
 "cells": [
  {
   "cell_type": "code",
   "execution_count": 1,
   "metadata": {
    "colab": {
     "base_uri": "https://localhost:8080/",
     "height": 127
    },
    "colab_type": "code",
    "id": "fLk_AS3TO3f-",
    "outputId": "ec1f0599-c7fd-42fe-9993-0d880435e466"
   },
   "outputs": [
    {
     "name": "stdout",
     "output_type": "stream",
     "text": [
      "Go to this URL in a browser: https://accounts.google.com/o/oauth2/auth?client_id=947318989803-6bn6qk8qdgf4n4g3pfee6491hc0brc4i.apps.googleusercontent.com&redirect_uri=urn%3aietf%3awg%3aoauth%3a2.0%3aoob&response_type=code&scope=email%20https%3a%2f%2fwww.googleapis.com%2fauth%2fdocs.test%20https%3a%2f%2fwww.googleapis.com%2fauth%2fdrive%20https%3a%2f%2fwww.googleapis.com%2fauth%2fdrive.photos.readonly%20https%3a%2f%2fwww.googleapis.com%2fauth%2fpeopleapi.readonly\n",
      "\n",
      "Enter your authorization code:\n",
      "··········\n",
      "Mounted at /content/drive\n"
     ]
    }
   ],
   "source": [
    "from google.colab import drive\n",
    "drive.mount('/content/drive')"
   ]
  },
  {
   "cell_type": "markdown",
   "metadata": {
    "colab_type": "text",
    "id": "LImVvmRLOvMq"
   },
   "source": [
    "# First Task\n",
    "\n",
    "To estimate the average travel time from designated intersections to tollgates."
   ]
  },
  {
   "cell_type": "code",
   "execution_count": null,
   "metadata": {
    "colab": {},
    "colab_type": "code",
    "id": "97YC8A_EOvMr"
   },
   "outputs": [],
   "source": [
    "import re\n",
    "import pandas as pd\n",
    "import numpy as np"
   ]
  },
  {
   "cell_type": "code",
   "execution_count": null,
   "metadata": {
    "cellView": "code",
    "colab": {},
    "colab_type": "code",
    "id": "XhwHeaeGOvMv"
   },
   "outputs": [],
   "source": [
    "# Load dataset from csv files\n",
    "data_train = pd.read_csv(\"/content/drive/My Drive/5002-Project/data/phase1_training/20min_avg_travel_time_training_phase1.csv\")\n",
    "data_test = pd.read_csv(\"/content/drive/My Drive/5002-Project/data/phase1_test/20min_avg_travel_time_test_phase1.csv\")"
   ]
  },
  {
   "cell_type": "markdown",
   "metadata": {
    "colab_type": "text",
    "id": "5ozmuj9cLcfW"
   },
   "source": [
    "|Attribute |Type| Description|\n",
    "|----------|----|------------|\n",
    "|intersection id |string |intersection ID|\n",
    "|tollgate id |int |tollgate ID|\n",
    "|time window |string |e.g., [2016-09-18 08:40:00, 2016-09-18 09:00:00]|\n",
    "|avg travel time |float| average travel time (seconds)|\n"
   ]
  },
  {
   "cell_type": "markdown",
   "metadata": {
    "colab_type": "text",
    "id": "9NGZn_wVOvM5"
   },
   "source": [
    "## 1.1 Preprocess data\n",
    "\n",
    "We can see all the data was from the year of 2016. The training data was from `July 19th` to `October 17th` with 25,144 data and the testing data was from `October 18th` to `October 24th` with 448 data. One of the difficulty is how to handle the time windows.\n",
    "\n",
    "I think the average travel time had no relationship with years, months and days, only related with the 20-min interval of time in 24 hours. The date form is `yyyy-mm-dd hh-mm-ss` and all the seconds are zero. Therefore, I divided a days by 72 intervals by 20 minutes and change the date into an integer in the interval of `[0, 71]`."
   ]
  },
  {
   "cell_type": "code",
   "execution_count": null,
   "metadata": {
    "colab": {},
    "colab_type": "code",
    "id": "F9F68ErYOvM5"
   },
   "outputs": [],
   "source": [
    "def transform_date(pat, date):\n",
    "    date = pat.findall(date)\n",
    "    interval_from = int(date[0][0])*3 + int(date[0][1]) / 20\n",
    "    interval_to = int(date[1][0])*3 + int(date[1][1]) / 20\n",
    "    \n",
    "    return [interval_from, interval_to]"
   ]
  },
  {
   "cell_type": "code",
   "execution_count": null,
   "metadata": {
    "colab": {},
    "colab_type": "code",
    "id": "RP92oPBEOvM8"
   },
   "outputs": [],
   "source": [
    "def preprocess(data, split_val=True, type=\"time\"):\n",
    "\n",
    "    # preprocess avg_travel_time dataset\n",
    "    if type == \"time\":\n",
    "        # Transfer intersection_id to integer\n",
    "        data.loc[data.intersection_id == 'A',\"intersection_id\"] = 1.0\n",
    "        data.loc[data.intersection_id == 'B',\"intersection_id\"] = 2.0\n",
    "        data.loc[data.intersection_id == 'C',\"intersection_id\"] = 3.0\n",
    "    \n",
    "        # Transfer time_windows to interval_from and interval_to\n",
    "        pat = re.compile(r'(\\d{2}):(\\d{2})')\n",
    "        data[\"interval_from\"] = data[\"time_window\"].apply(lambda x: transform_date(pat, x)[0])\n",
    "        data[\"interval_to\"] = data[\"time_window\"].apply(lambda x: transform_date(pat, x)[1])\n",
    "        data.drop([\"time_window\"], axis=1, inplace=True)\n",
    "\n",
    "        # split validation set\n",
    "        if split_val == True:\n",
    "            \n",
    "            # divide routes by intersection_id and tollgate_id\n",
    "            # have 6 routes totally\n",
    "            df12 = data[(data.intersection_id == 1) & (data.tollgate_id == 2)].reset_index(drop=True)\n",
    "            df13 = data[(data.intersection_id == 1) & (data.tollgate_id == 3)].reset_index(drop=True)\n",
    "\n",
    "            df21 = data[(data.intersection_id == 2) & (data.tollgate_id == 1)].reset_index(drop=True)\n",
    "            df23 = data[(data.intersection_id == 2) & (data.tollgate_id == 3)].reset_index(drop=True)\n",
    "\n",
    "            df31 = data[(data.intersection_id == 3) & (data.tollgate_id == 1)].reset_index(drop=True)\n",
    "            df33 = data[(data.intersection_id == 3) & (data.tollgate_id == 3)].reset_index(drop=True)\n",
    "\n",
    "            # 2/8 sampling\n",
    "            train_set = pd.concat([\n",
    "                df12[:int(df12.shape[0]*0.8)], \\\n",
    "                df13[:int(df13.shape[0]*0.8)], \\\n",
    "                df21[:int(df21.shape[0]*0.8)], \\\n",
    "                df23[:int(df23.shape[0]*0.8)], \\\n",
    "                df31[:int(df31.shape[0]*0.8)], \\\n",
    "                df33[:int(df33.shape[0]*0.8)]\n",
    "            ]).reset_index(drop=True)\n",
    "\n",
    "            val_set = pd.concat([\n",
    "                df12[int(df12.shape[0]*0.8):], \\\n",
    "                df13[int(df13.shape[0]*0.8):], \\\n",
    "                df21[int(df21.shape[0]*0.8):], \\\n",
    "                df23[int(df23.shape[0]*0.8):], \\\n",
    "                df31[int(df31.shape[0]*0.8):], \\\n",
    "                df33[int(df33.shape[0]*0.8):]\n",
    "            ]).reset_index(drop=True)\n",
    "\n",
    "            print(\"number of training data = %s\" % train_set.shape[0])\n",
    "            print(\"number of validation data = %s\" % val_set.shape[0])\n",
    "    \n",
    "            X_train = train_set[[\"intersection_id\", \"tollgate_id\", \"interval_from\", \"interval_to\"]]\n",
    "            y_train = train_set[\"avg_travel_time\"]\n",
    "            X_val = val_set[[\"intersection_id\", \"tollgate_id\", \"interval_from\", \"interval_to\"]]\n",
    "            y_val = val_set[\"avg_travel_time\"]\n",
    "    \n",
    "            return X_train, y_train, X_val, y_val\n",
    "\n",
    "        # not split validation set\n",
    "        else:\n",
    "            X = data[[\"intersection_id\", \"tollgate_id\", \"interval_from\", \"interval_to\"]]\n",
    "            y = data[\"avg_travel_time\"]\n",
    "            print(\"number of data = %s\" % data.shape[0])\n",
    "            return X, y\n",
    "\n",
    "    # preprocess avg_volume dataset\n",
    "    if type == \"volume\":\n",
    "        # Transfer time_windows to interval_from and interval_to\n",
    "        pat = re.compile(r'(\\d{2}):(\\d{2})')\n",
    "        data[\"interval_from\"] = data[\"time_window\"].apply(lambda x: transform_date(pat, x)[0])\n",
    "        data[\"interval_to\"] = data[\"time_window\"].apply(lambda x: transform_date(pat, x)[1])\n",
    "        data.drop([\"time_window\"], axis=1, inplace=True)\n",
    "\n",
    "        # split validation set\n",
    "        if split_val == True:\n",
    "\n",
    "            # divide pairs by tollgate_id and direction\n",
    "            # have 6 tollgate-direction pairs totally\n",
    "            df10 = data[(data.tollgate_id == 1) & (data.direction == 0)].reset_index(drop=True)\n",
    "            df11 = data[(data.tollgate_id == 1) & (data.direction == 1)].reset_index(drop=True)\n",
    "\n",
    "            df20 = data[(data.tollgate_id == 2) & (data.direction == 0)].reset_index(drop=True)\n",
    "            df21 = data[(data.tollgate_id == 2) & (data.direction == 1)].reset_index(drop=True)\n",
    "\n",
    "            df30 = data[(data.tollgate_id == 3) & (data.direction == 0)].reset_index(drop=True)\n",
    "            df31 = data[(data.tollgate_id == 3) & (data.direction == 1)].reset_index(drop=True)\n",
    "\n",
    "            # 2/8 sampling\n",
    "            train_set = pd.concat([\n",
    "                df10[:int(df10.shape[0]*0.8)], \\\n",
    "                df11[:int(df11.shape[0]*0.8)], \\\n",
    "                df20[:int(df20.shape[0]*0.8)], \\\n",
    "                df21[:int(df21.shape[0]*0.8)], \\\n",
    "                df30[:int(df30.shape[0]*0.8)], \\\n",
    "                df31[:int(df31.shape[0]*0.8)]\n",
    "            ]).reset_index(drop=True)\n",
    "\n",
    "            val_set = pd.concat([\n",
    "                df10[int(df10.shape[0]*0.8):], \\\n",
    "                df11[int(df11.shape[0]*0.8):], \\\n",
    "                df20[int(df20.shape[0]*0.8):], \\\n",
    "                df21[int(df21.shape[0]*0.8):], \\\n",
    "                df30[int(df30.shape[0]*0.8):], \\\n",
    "                df31[int(df31.shape[0]*0.8):]\n",
    "            ]).reset_index(drop=True)\n",
    "\n",
    "            print(\"number of training data = %s\" % train_set.shape[0])\n",
    "            print(\"number of validation data = %s\" % val_set.shape[0])\n",
    "    \n",
    "            X_train = train_set[[\"tollgate_id\", \"direction\", \"interval_from\", \"interval_to\"]]\n",
    "            y_train = train_set[\"volume\"]\n",
    "            X_val = val_set[[\"tollgate_id\", \"direction\", \"interval_from\", \"interval_to\"]]\n",
    "            y_val = val_set[\"volume\"]\n",
    "    \n",
    "            return X_train, y_train, X_val, y_val\n",
    "\n",
    "        # not split validation set\n",
    "        else:\n",
    "            X = data[[\"tollgate_id\", \"direction\", \"interval_from\", \"interval_to\"]]\n",
    "            y = data[\"volume\"]\n",
    "            print(\"number of data = %s\" % data.shape[0])\n",
    "            return X, y"
   ]
  },
  {
   "cell_type": "code",
   "execution_count": 53,
   "metadata": {
    "colab": {
     "base_uri": "https://localhost:8080/",
     "height": 53
    },
    "colab_type": "code",
    "id": "8CUqdsc1OvM-",
    "outputId": "bc8b4ce7-cea2-4dd9-f846-754939bc1d02"
   },
   "outputs": [
    {
     "name": "stdout",
     "output_type": "stream",
     "text": [
      "number of training data = 20113\n",
      "number of validation data = 5031\n"
     ]
    }
   ],
   "source": [
    "X_train, y_train, X_val, y_val = preprocess(data_train, split_val=True, type=\"time\")"
   ]
  },
  {
   "cell_type": "markdown",
   "metadata": {
    "colab_type": "text",
    "id": "oUWV6WwROvNC"
   },
   "source": [
    "## 1.2 Train and Tune Parameters\n",
    "\n",
    "Train the model on training set and tune parameters on validation set. I'll try two different model: \n",
    "\n",
    "1. Random Forest Regression \n",
    "2. Feedforward Neural Network"
   ]
  },
  {
   "cell_type": "code",
   "execution_count": null,
   "metadata": {
    "colab": {},
    "colab_type": "code",
    "id": "9mVGqoQ1OvND"
   },
   "outputs": [],
   "source": [
    "from sklearn.ensemble import RandomForestRegressor\n",
    "import matplotlib.pyplot as plt\n",
    "import torch"
   ]
  },
  {
   "cell_type": "code",
   "execution_count": null,
   "metadata": {
    "colab": {},
    "colab_type": "code",
    "id": "yMdb4nOZOvNF"
   },
   "outputs": [],
   "source": [
    "def evaluate_MAPE(X, y, y_pred, type=\"time\"):\n",
    "\n",
    "    df = pd.concat([X, y, y_pred], axis=1)\n",
    "\n",
    "    if type == \"time\":\n",
    "        df.rename(columns={0: \"pred_time\"}, inplace=True)\n",
    "        df[\"ratio\"] = ((df[\"avg_travel_time\"] - df[\"pred_time\"]) / df[\"avg_travel_time\"]).abs()\n",
    "        groups = df.groupby([\"intersection_id\", \"tollgate_id\"]).mean()\n",
    "        MAPE = groups[\"ratio\"].sum() / groups.shape[0]\n",
    "\n",
    "    if type == \"volume\":\n",
    "        df.rename(columns={0: \"pred_volume\"}, inplace=True)\n",
    "        df[\"ratio\"] = ((df[\"volume\"] - df[\"pred_volume\"]) / df[\"volume\"]).abs()\n",
    "        groups = df.groupby([\"tollgate_id\", \"direction\"]).mean()\n",
    "        MAPE = groups[\"ratio\"].sum() / groups.shape[0]\n",
    "    \n",
    "    return MAPE"
   ]
  },
  {
   "cell_type": "code",
   "execution_count": 54,
   "metadata": {
    "colab": {
     "base_uri": "https://localhost:8080/",
     "height": 494
    },
    "colab_type": "code",
    "id": "eMo-yAhQOvNH",
    "outputId": "c16dd69e-128a-48a2-bfa1-ac0c13e05eef"
   },
   "outputs": [
    {
     "name": "stdout",
     "output_type": "stream",
     "text": [
      "processing: 10/100\n",
      "processing: 20/100\n",
      "processing: 30/100\n",
      "processing: 40/100\n",
      "processing: 50/100\n",
      "processing: 60/100\n",
      "processing: 70/100\n",
      "processing: 80/100\n",
      "processing: 90/100\n",
      "lowest MAPE = 0.2523890713474992\n",
      "best n_estimators = 99\n"
     ]
    },
    {
     "data": {
      "image/png": "[encoded data removed]",
      "text/plain": [
       "<Figure size 432x288 with 1 Axes>"
      ]
     },
     "metadata": {
      "needs_background": "light",
      "tags": []
     },
     "output_type": "display_data"
    }
   ],
   "source": [
    "# Random Forest Regression\n",
    "MAPE = []\n",
    "lowest_MAPE = 1\n",
    "best_n = 1\n",
    "best_RF_model = None\n",
    "for n in range(1,100):\n",
    "    regr_RF = RandomForestRegressor(n_estimators=n, random_state=0)\n",
    "    regr_RF.fit(X_train, y_train)\n",
    "    y_pred = pd.DataFrame(regr_RF.predict(X_val))\n",
    "    MAPE_n = evaluate_MAPE(X_val, y_val, y_pred, type=\"time\")\n",
    "    MAPE.append(MAPE_n)\n",
    "\n",
    "    if MAPE_n < lowest_MAPE:\n",
    "        lowest_MAPE = MAPE_n\n",
    "        best_RF_model = regr_RF\n",
    "        best_n = n\n",
    "    \n",
    "    if n%10 == 0:\n",
    "        print(\"processing: %s/%s\" % (n, 100))\n",
    "\n",
    "print(\"lowest MAPE = %s\" % lowest_MAPE)\n",
    "print(\"best n_estimators = %s\" % best_n)\n",
    "\n",
    "plt.title(\"MAPE of Random Forest Regression Model on Validation set\")\n",
    "plt.xlabel(\"n_estimators\")\n",
    "plt.ylabel(\"MAPE\")\n",
    "plt.plot(range(1,100), MAPE)\n",
    "plt.show()"
   ]
  },
  {
   "cell_type": "code",
   "execution_count": 10,
   "metadata": {
    "colab": {
     "base_uri": "https://localhost:8080/",
     "height": 35
    },
    "colab_type": "code",
    "id": "q70EnAa7OvNK",
    "outputId": "0f6c458e-8459-4096-bad7-f5eef36d1331"
   },
   "outputs": [
    {
     "data": {
      "text/plain": [
       "True"
      ]
     },
     "execution_count": 10,
     "metadata": {
      "tags": []
     },
     "output_type": "execute_result"
    }
   ],
   "source": [
    "# Test cuda if works\n",
    "torch.cuda.is_available()"
   ]
  },
  {
   "cell_type": "code",
   "execution_count": null,
   "metadata": {
    "colab": {},
    "colab_type": "code",
    "id": "7PEdptjcOvNN"
   },
   "outputs": [],
   "source": [
    "device = torch.device('cuda')"
   ]
  },
  {
   "cell_type": "code",
   "execution_count": null,
   "metadata": {
    "colab": {},
    "colab_type": "code",
    "id": "r_eRyZ-NOvNQ"
   },
   "outputs": [],
   "source": [
    "# Use Pytroch to build a Feedforward Neural Network\n",
    "class FNN:\n",
    "    \n",
    "    def __init__(self, D_in, H1, H2, D_out, iteration, lr, device):\n",
    "        self.D_in = D_in\n",
    "        self.H1 = H1\n",
    "        self.H2 = H2\n",
    "        self.D_out = D_out\n",
    "        self.iteration = iteration\n",
    "        self.lr = lr\n",
    "        self.device = device\n",
    "    \n",
    "    def evaluate_MAPE(self, X, y, y_pred):\n",
    "      X = pd.DataFrame(X.cpu().numpy())\n",
    "      y = pd.DataFrame(y.cpu().numpy())\n",
    "      y_pred = pd.DataFrame(y_pred.cpu().detach().numpy())\n",
    "      df = pd.concat([X, y, y_pred], axis=1, ignore_index=True)\n",
    "      df[\"ratio\"] = ((df[4] - df[5]) / df[4]).abs()\n",
    "      groups = df.groupby([0, 1]).mean()\n",
    "      MAPE = groups[\"ratio\"].sum() / groups.shape[0]\n",
    "      return MAPE\n",
    "\n",
    "    def train(self, X_train, y_train, X_val, y_val):\n",
    "        model = torch.nn.Sequential(\n",
    "                    torch.nn.Linear(self.D_in, self.H1),\n",
    "                    torch.nn.ReLU(),\n",
    "                    torch.nn.Linear(self.H1, self.H2),\n",
    "                    torch.nn.ReLU(),\n",
    "                    torch.nn.Linear(self.H2, self.D_out)\n",
    "                ).to(self.device)\n",
    "\n",
    "        loss_list = []\n",
    "        MAPE = []\n",
    "        lowest_MAPE = 1.0\n",
    "        best_model = None\n",
    "    \n",
    "        # Loss function\n",
    "        loss_fn = torch.nn.MSELoss(reduction='mean')      \n",
    "\n",
    "        # SGD optimizer\n",
    "        optimizer = torch.optim.SGD(model.parameters(), lr=self.lr)\n",
    "\n",
    "        for t in range(self.iteration):\n",
    "            \n",
    "            if t%100 == 0:\n",
    "                print(\"iteration: %s/%s\" % (t, self.iteration))\n",
    "                \n",
    "            y_train_pred = model(X_train).squeeze()\n",
    "            loss = loss_fn(y_train_pred, y_train)\n",
    "            loss_list.append(loss.item())\n",
    "            \n",
    "            y_val_pred = model(X_val).squeeze()\n",
    "            MAPE_t = self.evaluate_MAPE(X_val, y_val, y_val_pred)\n",
    "            MAPE.append(MAPE_t)\n",
    "            \n",
    "            if MAPE_t < lowest_MAPE:\n",
    "                lowest_MAPE = MAPE_t\n",
    "                best_model = model\n",
    "            \n",
    "            # zero gradient\n",
    "            optimizer.zero_grad()\n",
    "        \n",
    "            # Backward pass\n",
    "            loss.backward()\n",
    "            \n",
    "            # Update parameters\n",
    "            optimizer.step()\n",
    "        \n",
    "        self.loss_ = loss_list\n",
    "        self.MAPE_ = MAPE\n",
    "        self.lowest_MAPE_ = lowest_MAPE\n",
    "        self.best_model_ = best_model\n",
    "    \n",
    "    def predict(self, X):\n",
    "\n",
    "        return self.best_model_(X)\n",
    "\n",
    "    def visualize(self):\n",
    "        # Loss curve\n",
    "        fig = plt.figure(figsize=(15,4))\n",
    "        ax1 = plt.subplot(1,2,1)\n",
    "        ax2 = plt.subplot(1,2,2)\n",
    "        plt.sca(ax1)\n",
    "        plt.title(\"The Loss on training set\")\n",
    "        plt.xlabel(\"iteration\")\n",
    "        plt.ylabel(\"loss\")\n",
    "        plt.plot(range(self.iteration), self.loss_)\n",
    "        # MAPE on validation set\n",
    "        plt.sca(ax2)\n",
    "        plt.title(\"The MAPE on validation set\")\n",
    "        plt.xlabel(\"iteration\")\n",
    "        plt.ylabel(\"MAPE\")\n",
    "        plt.plot(range(self.iteration), self.MAPE_)\n",
    "\n",
    "        plt.show()"
   ]
  },
  {
   "cell_type": "code",
   "execution_count": null,
   "metadata": {
    "colab": {},
    "colab_type": "code",
    "id": "m0t5NRYkOvNV"
   },
   "outputs": [],
   "source": [
    "# Transfer dataframe to tensor\n",
    "X_train_tensor = torch.from_numpy(X_train.to_numpy().astype(np.float32)).cuda()\n",
    "y_train_tensor = torch.from_numpy(y_train.to_numpy().astype(np.float32)).cuda()\n",
    "X_val_tensor = torch.from_numpy(X_val.to_numpy().astype(np.float32)).cuda()\n",
    "y_val_tensor = torch.from_numpy(y_val.to_numpy().astype(np.float32)).cuda()"
   ]
  },
  {
   "cell_type": "code",
   "execution_count": 30,
   "metadata": {
    "colab": {
     "base_uri": "https://localhost:8080/",
     "height": 403
    },
    "colab_type": "code",
    "id": "ytNVdidoOvNT",
    "outputId": "376ceadf-6a64-461c-fd10-b6e3dde80018"
   },
   "outputs": [
    {
     "name": "stdout",
     "output_type": "stream",
     "text": [
      "iteration: 0/500\n",
      "iteration: 100/500\n",
      "iteration: 200/500\n",
      "iteration: 300/500\n",
      "iteration: 400/500\n",
      "lowest MAPE = 0.4791315793991089\n"
     ]
    },
    {
     "data": {
      "image/png": "[encoded data removed]",
      "text/plain": [
       "<Figure size 1080x288 with 2 Axes>"
      ]
     },
     "metadata": {
      "needs_background": "light",
      "tags": []
     },
     "output_type": "display_data"
    }
   ],
   "source": [
    "# Initialize Neural Network\n",
    "fnn = FNN(D_in=4, H1=3, H2=3, D_out=1, iteration=500, lr=1e-6, device=device)\n",
    "# Train network\n",
    "fnn.train(X_train_tensor, y_train_tensor, X_val_tensor, y_val_tensor)\n",
    "\n",
    "# Print lowest MAPE\n",
    "print(\"lowest MAPE = %s\" % fnn.lowest_MAPE_)\n",
    "\n",
    "# Plot the loss curve and MAPE on validation set\n",
    "fnn.visualize()"
   ]
  },
  {
   "cell_type": "markdown",
   "metadata": {
    "colab_type": "text",
    "id": "Bl6nwRotb_GS"
   },
   "source": [
    "## 1.3 Predict on testing dataset"
   ]
  },
  {
   "cell_type": "code",
   "execution_count": 16,
   "metadata": {
    "colab": {
     "base_uri": "https://localhost:8080/",
     "height": 35
    },
    "colab_type": "code",
    "id": "k_ggTao3cCNo",
    "outputId": "5b19e202-ee7b-4a99-9c2f-8c5eef74ae20"
   },
   "outputs": [
    {
     "name": "stdout",
     "output_type": "stream",
     "text": [
      "number of data = 448\n"
     ]
    }
   ],
   "source": [
    "X_test, y_test = preprocess(data_test, split_val=False, type=\"time\") # y_test is NaN"
   ]
  },
  {
   "cell_type": "code",
   "execution_count": null,
   "metadata": {
    "colab": {},
    "colab_type": "code",
    "id": "ocAcg_Riezc8"
   },
   "outputs": [],
   "source": [
    "# Use best RF model to predict on testing dataset\n",
    "y_test = best_RF_model.predict(X_test)"
   ]
  },
  {
   "cell_type": "code",
   "execution_count": null,
   "metadata": {
    "colab": {},
    "colab_type": "code",
    "id": "-LvSIcpvVY1T"
   },
   "outputs": [],
   "source": [
    "y_test"
   ]
  },
  {
   "cell_type": "code",
   "execution_count": null,
   "metadata": {
    "colab": {},
    "colab_type": "code",
    "id": "kT3mT33Be0_K"
   },
   "outputs": [],
   "source": [
    "# Use NN model to predict\n",
    "X_test_tensor = torch.from_numpy(X_test.to_numpy().astype(np.float32)).cuda()\n",
    "y_test_tensor = fnn.predict(X_test_tensor)"
   ]
  },
  {
   "cell_type": "code",
   "execution_count": null,
   "metadata": {
    "colab": {},
    "colab_type": "code",
    "id": "PkH3jAkkVavu"
   },
   "outputs": [],
   "source": [
    "y_test_tensor"
   ]
  },
  {
   "cell_type": "markdown",
   "metadata": {
    "colab_type": "text",
    "id": "P3AZ7y05cKMS"
   },
   "source": [
    "# Another Task\n",
    "\n",
    "Another task is to predict average tollgate traffic volume. The dataset structure has highly similarity of the previous task so we can reuse some functions in last task.\n",
    "\n",
    "|Attribute |Type| Description|\n",
    "|----------|----|------------|\n",
    "|tollgate id |int| tollgate |ID|\n",
    "|time window | string | e.g., [2016-09-18 08:40:00, 2016-09-18 09:00:00]|\n",
    "|direction |string |0:entry, 1: exit|\n",
    "|volume | int | total volume |"
   ]
  },
  {
   "cell_type": "code",
   "execution_count": 43,
   "metadata": {
    "colab": {
     "base_uri": "https://localhost:8080/",
     "height": 71
    },
    "colab_type": "code",
    "id": "DTY3xhXCcM_N",
    "outputId": "f60689db-f51f-4bd5-d264-bddcf2a201b5"
   },
   "outputs": [
    {
     "name": "stdout",
     "output_type": "stream",
     "text": [
      "number of training data = 8049\n",
      "number of validation data = 2014\n",
      "number of data = 420\n"
     ]
    }
   ],
   "source": [
    "# Load dataset from csv files and preprocess\n",
    "data_train = pd.read_csv(\"/content/drive/My Drive/5002-Project/data/phase1_training/20min_avg_volume_training_phase1.csv\")\n",
    "data_test = pd.read_csv(\"/content/drive/My Drive/5002-Project/data/phase1_test/20min_avg_volume_test_phase1.csv\")\n",
    "\n",
    "X_train, y_train, X_val, y_val = preprocess(data_train, split_val=True, type=\"volume\")\n",
    "X_test, y_test = preprocess(data_test, split_val=False, type=\"volume\")"
   ]
  },
  {
   "cell_type": "code",
   "execution_count": 47,
   "metadata": {
    "colab": {
     "base_uri": "https://localhost:8080/",
     "height": 494
    },
    "colab_type": "code",
    "id": "SnjqCjgFXUNe",
    "outputId": "9f0f086e-6c59-463c-e03a-30c11f31c424"
   },
   "outputs": [
    {
     "name": "stdout",
     "output_type": "stream",
     "text": [
      "processing: 10/100\n",
      "processing: 20/100\n",
      "processing: 30/100\n",
      "processing: 40/100\n",
      "processing: 50/100\n",
      "processing: 60/100\n",
      "processing: 70/100\n",
      "processing: 80/100\n",
      "processing: 90/100\n",
      "lowest MAPE = 0.44467086147059864\n",
      "best n_estimators = 3\n"
     ]
    },
    {
     "data": {
      "image/png": "[encoded data removed]",
      "text/plain": [
       "<Figure size 432x288 with 1 Axes>"
      ]
     },
     "metadata": {
      "needs_background": "light",
      "tags": []
     },
     "output_type": "display_data"
    }
   ],
   "source": [
    "# Random Forest Regression\n",
    "MAPE = []\n",
    "lowest_MAPE = 1\n",
    "best_n = 1\n",
    "best_RF_model = None\n",
    "for n in range(1,100):\n",
    "    regr_RF = RandomForestRegressor(n_estimators=n, random_state=0)\n",
    "    regr_RF.fit(X_train, y_train)\n",
    "    y_pred = pd.DataFrame(regr_RF.predict(X_val))\n",
    "    MAPE_n = evaluate_MAPE(X_val, y_val, y_pred, type=\"volume\")\n",
    "    MAPE.append(MAPE_n)\n",
    "\n",
    "    if MAPE_n < lowest_MAPE:\n",
    "        lowest_MAPE = MAPE_n\n",
    "        best_RF_model = regr_RF\n",
    "        best_n = n\n",
    "    \n",
    "    if n%10 == 0:\n",
    "        print(\"processing: %s/%s\" % (n, 100))\n",
    "\n",
    "print(\"lowest MAPE = %s\" % lowest_MAPE)\n",
    "print(\"best n_estimators = %s\" % best_n)\n",
    "\n",
    "plt.title(\"MAPE of Random Forest Regression Model on Validation set\")\n",
    "plt.xlabel(\"n_estimators\")\n",
    "plt.ylabel(\"MAPE\")\n",
    "plt.plot(range(1,100), MAPE)\n",
    "plt.show()"
   ]
  },
  {
   "cell_type": "code",
   "execution_count": null,
   "metadata": {
    "colab": {},
    "colab_type": "code",
    "id": "jo9lAk05Z8Wz"
   },
   "outputs": [],
   "source": [
    "# Transfer dataframe to tensor\n",
    "X_train_tensor = torch.from_numpy(X_train.to_numpy().astype(np.float32)).cuda()\n",
    "y_train_tensor = torch.from_numpy(y_train.to_numpy().astype(np.float32)).cuda()\n",
    "X_val_tensor = torch.from_numpy(X_val.to_numpy().astype(np.float32)).cuda()\n",
    "y_val_tensor = torch.from_numpy(y_val.to_numpy().astype(np.float32)).cuda()"
   ]
  },
  {
   "cell_type": "code",
   "execution_count": 49,
   "metadata": {
    "colab": {
     "base_uri": "https://localhost:8080/",
     "height": 403
    },
    "colab_type": "code",
    "id": "4Iap4zAPaAHT",
    "outputId": "7c026d98-6ac7-4b4a-b185-6b449be28112"
   },
   "outputs": [
    {
     "name": "stdout",
     "output_type": "stream",
     "text": [
      "iteration: 0/500\n",
      "iteration: 100/500\n",
      "iteration: 200/500\n",
      "iteration: 300/500\n",
      "iteration: 400/500\n",
      "lowest MAPE = 0.7795748233795166\n"
     ]
    },
    {
     "data": {
      "image/png": "[encoded data removed]",
      "text/plain": [
       "<Figure size 1080x288 with 2 Axes>"
      ]
     },
     "metadata": {
      "needs_background": "light",
      "tags": []
     },
     "output_type": "display_data"
    }
   ],
   "source": [
    "# Initialize Neural Network\n",
    "fnn = FNN(D_in=4, H1=3, H2=3, D_out=1, iteration=500, lr=1e-6, device=device)\n",
    "# Train network\n",
    "fnn.train(X_train_tensor, y_train_tensor, X_val_tensor, y_val_tensor)\n",
    "\n",
    "# Print lowest MAPE\n",
    "print(\"lowest MAPE = %s\" % fnn.lowest_MAPE_)\n",
    "\n",
    "# Plot the loss curve and MAPE on validation set\n",
    "fnn.visualize()"
   ]
  },
  {
   "cell_type": "code",
   "execution_count": null,
   "metadata": {
    "colab": {},
    "colab_type": "code",
    "id": "a6nWjdiNaZwv"
   },
   "outputs": [],
   "source": [
    "X_test, y_test = preprocess(data_test, split_val=False, type=\"time\")\n",
    "\n",
    "# Use best RF model to predict on testing dataset\n",
    "y_test = best_RF_model.predict(X_test)"
   ]
  },
  {
   "cell_type": "code",
   "execution_count": null,
   "metadata": {
    "colab": {},
    "colab_type": "code",
    "id": "R2rYGR38af_H"
   },
   "outputs": [],
   "source": [
    "# Use NN model to predict\n",
    "X_test_tensor = torch.from_numpy(X_test.to_numpy().astype(np.float32)).cuda()\n",
    "y_test_tensor = fnn.predict(X_test_tensor)"
   ]
  }
 ],
 "metadata": {
  "accelerator": "GPU",
  "colab": {
   "name": "5002-project.ipynb",
   "provenance": []
  },
  "kernelspec": {
   "display_name": "Python 3",
   "language": "python",
   "name": "python3"
  },
  "language_info": {
   "codemirror_mode": {
    "name": "ipython",
    "version": 3
   },
   "file_extension": ".py",
   "mimetype": "text/x-python",
   "name": "python",
   "nbconvert_exporter": "python",
   "pygments_lexer": "ipython3",
   "version": "3.6.10"
  }
 },
 "nbformat": 4,
 "nbformat_minor": 4
}
